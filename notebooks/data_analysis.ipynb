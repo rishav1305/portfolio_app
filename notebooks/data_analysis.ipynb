{
 "cells": [
  {
   "cell_type": "markdown",
   "id": "c65da585",
   "metadata": {},
   "source": [
    "# Data Analysis with Python\n",
    "\n",
    "Welcome to this interactive Python notebook! In this workspace, we'll explore data analysis techniques using pandas and visualization with matplotlib.\n",
    "\n",
    "Feel free to modify this notebook and experiment with the code. Your changes will be saved in your GitHub Codespace."
   ]
  },
  {
   "cell_type": "code",
   "execution_count": null,
   "id": "2e7d9921",
   "metadata": {},
   "outputs": [],
   "source": [
    "# Import required libraries\n",
    "import pandas as pd\n",
    "import numpy as np\n",
    "import matplotlib.pyplot as plt\n",
    "import seaborn as sns\n",
    "\n",
    "# Set the style for plots\n",
    "plt.style.use('ggplot')\n",
    "sns.set_theme()\n",
    "\n",
    "# Display plots inline\n",
    "%matplotlib inline"
   ]
  },
  {
   "cell_type": "markdown",
   "id": "3a680925",
   "metadata": {},
   "source": [
    "## Creating Sample Data\n",
    "\n",
    "Let's create a sample dataset to analyze. This simulates real-world data collection and preparation."
   ]
  },
  {
   "cell_type": "code",
   "execution_count": null,
   "id": "c1c65183",
   "metadata": {},
   "outputs": [],
   "source": [
    "# Creating a sample DataFrame\n",
    "np.random.seed(42)\n",
    "dates = pd.date_range('20230101', periods=100)\n",
    "df = pd.DataFrame({\n",
    "    'date': dates,\n",
    "    'value': np.random.randn(100).cumsum(),\n",
    "    'category': np.random.choice(['A', 'B', 'C'], 100),\n",
    "    'amount': np.random.randint(100, 1000, size=100)\n",
    "})\n",
    "\n",
    "# Display the first few rows\n",
    "df.head()"
   ]
  },
  {
   "cell_type": "markdown",
   "id": "96218e21",
   "metadata": {},
   "source": [
    "## Data Exploration\n",
    "\n",
    "Let's explore our dataset to understand its structure and contents."
   ]
  },
  {
   "cell_type": "code",
   "execution_count": null,
   "id": "3f90e5d9",
   "metadata": {},
   "outputs": [],
   "source": [
    "# Basic information about the DataFrame\n",
    "print(\"Dataset shape:\", df.shape)\n",
    "print(\"\\nData types:\")\n",
    "print(df.dtypes)\n",
    "print(\"\\nSummary statistics:\")\n",
    "df.describe()"
   ]
  },
  {
   "cell_type": "markdown",
   "id": "0686ce05",
   "metadata": {},
   "source": [
    "## Data Visualization\n",
    "\n",
    "Let's create some visualizations to better understand our data."
   ]
  },
  {
   "cell_type": "code",
   "execution_count": null,
   "id": "b0db8727",
   "metadata": {},
   "outputs": [],
   "source": [
    "# Time series plot\n",
    "plt.figure(figsize=(12, 6))\n",
    "plt.plot(df['date'], df['value'], color='blue', alpha=0.7)\n",
    "plt.title('Value Over Time')\n",
    "plt.xlabel('Date')\n",
    "plt.ylabel('Value')\n",
    "plt.grid(True, alpha=0.3)\n",
    "plt.tight_layout()\n",
    "plt.show()"
   ]
  },
  {
   "cell_type": "code",
   "execution_count": null,
   "id": "04319b84",
   "metadata": {},
   "outputs": [],
   "source": [
    "# Distribution of amounts by category\n",
    "plt.figure(figsize=(10, 6))\n",
    "sns.boxplot(x='category', y='amount', data=df)\n",
    "plt.title('Amount Distribution by Category')\n",
    "plt.tight_layout()\n",
    "plt.show()"
   ]
  },
  {
   "cell_type": "code",
   "execution_count": null,
   "id": "24ef323b",
   "metadata": {},
   "outputs": [],
   "source": [
    "# Count of categories\n",
    "category_counts = df['category'].value_counts()\n",
    "\n",
    "plt.figure(figsize=(8, 6))\n",
    "sns.barplot(x=category_counts.index, y=category_counts.values)\n",
    "plt.title('Count of Categories')\n",
    "plt.xlabel('Category')\n",
    "plt.ylabel('Count')\n",
    "plt.tight_layout()\n",
    "plt.show()"
   ]
  },
  {
   "cell_type": "markdown",
   "id": "15f8c4c5",
   "metadata": {},
   "source": [
    "## Data Aggregation\n",
    "\n",
    "Let's perform some aggregation operations on our data."
   ]
  },
  {
   "cell_type": "code",
   "execution_count": null,
   "id": "1c9f754d",
   "metadata": {},
   "outputs": [],
   "source": [
    "# Group by category and calculate statistics\n",
    "category_stats = df.groupby('category').agg({\n",
    "    'value': ['mean', 'std', 'min', 'max'],\n",
    "    'amount': ['mean', 'std', 'min', 'max', 'sum']\n",
    "})\n",
    "\n",
    "category_stats"
   ]
  },
  {
   "cell_type": "markdown",
   "id": "1f36aacb",
   "metadata": {},
   "source": [
    "## Time-based Analysis\n",
    "\n",
    "Let's analyze trends over time."
   ]
  },
  {
   "cell_type": "code",
   "execution_count": null,
   "id": "ade35924",
   "metadata": {},
   "outputs": [],
   "source": [
    "# Add month and year columns\n",
    "df['month'] = df['date'].dt.month\n",
    "df['year'] = df['date'].dt.year\n",
    "\n",
    "# Group by month and calculate average values\n",
    "monthly_avg = df.groupby('month').agg({\n",
    "    'value': 'mean',\n",
    "    'amount': 'mean'\n",
    "}).reset_index()\n",
    "\n",
    "# Plot monthly averages\n",
    "fig, ax1 = plt.subplots(figsize=(12, 6))\n",
    "\n",
    "color = 'tab:blue'\n",
    "ax1.set_xlabel('Month')\n",
    "ax1.set_ylabel('Average Value', color=color)\n",
    "ax1.plot(monthly_avg['month'], monthly_avg['value'], color=color, marker='o')\n",
    "ax1.tick_params(axis='y', labelcolor=color)\n",
    "\n",
    "ax2 = ax1.twinx()  # Create a second y-axis\n",
    "color = 'tab:red'\n",
    "ax2.set_ylabel('Average Amount', color=color)\n",
    "ax2.plot(monthly_avg['month'], monthly_avg['amount'], color=color, marker='s')\n",
    "ax2.tick_params(axis='y', labelcolor=color)\n",
    "\n",
    "plt.title('Monthly Average Trends')\n",
    "fig.tight_layout()\n",
    "plt.show()"
   ]
  },
  {
   "cell_type": "markdown",
   "id": "bc8742fd",
   "metadata": {},
   "source": [
    "## Your Turn!\n",
    "\n",
    "Now it's your turn to experiment with this dataset. Here are some ideas to explore:\n",
    "\n",
    "1. Create different types of visualizations (histograms, scatter plots, etc.)\n",
    "2. Perform correlation analysis between variables\n",
    "3. Create new features from existing data\n",
    "4. Try simple machine learning models (clustering, regression, etc.)\n",
    "\n",
    "Add new cells below and start coding!"
   ]
  },
  {
   "cell_type": "code",
   "execution_count": null,
   "id": "a69732d3",
   "metadata": {},
   "outputs": [],
   "source": [
    "# Your code here"
   ]
  }
 ],
 "metadata": {
  "language_info": {
   "name": "python"
  }
 },
 "nbformat": 4,
 "nbformat_minor": 5
}
